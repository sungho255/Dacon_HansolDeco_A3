{
 "cells": [
  {
   "cell_type": "code",
   "execution_count": null,
   "metadata": {
    "colab": {
     "base_uri": "https://localhost:8080/"
    },
    "executionInfo": {
     "elapsed": 2602,
     "status": "ok",
     "timestamp": 1743074972806,
     "user": {
      "displayName": "김 선우",
      "userId": "08412778136116235349"
     },
     "user_tz": -540
    },
    "id": "4jVsRSplTqEQ",
    "outputId": "410c5cf8-a280-4f73-bd60-2954cd44e750"
   },
   "outputs": [],
   "source": [
    "!pip install koreanize-matplotlib\n",
    "import pandas as pd\n",
    "import matplotlib.pyplot as plt\n",
    "import matplotlib as mpl\n",
    "import koreanize_matplotlib\n",
    "import seaborn as sns"
   ]
  },
  {
   "cell_type": "code",
   "execution_count": null,
   "metadata": {
    "executionInfo": {
     "elapsed": 3,
     "status": "ok",
     "timestamp": 1743074972830,
     "user": {
      "displayName": "김 선우",
      "userId": "08412778136116235349"
     },
     "user_tz": -540
    },
    "id": "sTijq6qTTqER"
   },
   "outputs": [],
   "source": [
    "# countplot 함수 설정\n",
    "def countplot(df, name):\n",
    "    plt.figure(figsize=(8, 3))\n",
    "    ax = sns.countplot(data=df, x=name, color='grey', alpha=0.5)\n",
    "\n",
    "    # 전체 데이터 개수 계산\n",
    "    total = len(df)\n",
    "\n",
    "    # 각 막대 위에 개수와 비율 표시\n",
    "    for p in ax.patches:\n",
    "        count = int(p.get_height())  # 막대의 높이 (개수)\n",
    "        percentage = 100 * count / total  # 비율 계산\n",
    "        ax.annotate(f'{count}\\n({percentage:.1f}%)',\n",
    "                    (p.get_x() + p.get_width() / 2., p.get_height()),\n",
    "                    ha='center', va='center',\n",
    "                    fontsize=10, color='black',\n",
    "                    xytext=(0, 8), textcoords='offset points', weight='bold', rotation = 45)\n",
    "    plt.xticks(rotation=90)\n",
    "    plt.title(name)\n",
    "    return ax"
   ]
  },
  {
   "cell_type": "code",
   "execution_count": null,
   "metadata": {
    "executionInfo": {
     "elapsed": 2,
     "status": "ok",
     "timestamp": 1743074972831,
     "user": {
      "displayName": "김 선우",
      "userId": "08412778136116235349"
     },
     "user_tz": -540
    },
    "id": "65Y5x498TqER"
   },
   "outputs": [],
   "source": [
    "def print_answer(sel, col):\n",
    "    for row in range(len(sel)):\n",
    "        text = sel[col].iloc[row]\n",
    "        print(text)"
   ]
  },
  {
   "cell_type": "code",
   "execution_count": null,
   "metadata": {
    "executionInfo": {
     "elapsed": 30,
     "status": "ok",
     "timestamp": 1743074972861,
     "user": {
      "displayName": "김 선우",
      "userId": "08412778136116235349"
     },
     "user_tz": -540
    },
    "id": "XnOZkg-JTqES"
   },
   "outputs": [],
   "source": [
    "def fillna_preprocessing(df):\n",
    "    df.loc[df['인적사고'].isna()] = '없음'\n",
    "    df.loc[df['물적사고'].isna()] = '없음'\n",
    "    df.loc[df['사고객체'].isna()] = '기타 > 기타'\n",
    "    df.loc[df['사고원인'].isna()] = '파악 불가'\n",
    "    df.loc[df['작업프로세스'].isna()] = '기자제 운행 및 관리'\n",
    "    return df"
   ]
  },
  {
   "cell_type": "code",
   "execution_count": null,
   "metadata": {
    "colab": {
     "base_uri": "https://localhost:8080/"
    },
    "executionInfo": {
     "elapsed": 2604,
     "status": "ok",
     "timestamp": 1743074975463,
     "user": {
      "displayName": "김 선우",
      "userId": "08412778136116235349"
     },
     "user_tz": -540
    },
    "id": "qeNn3surUM4m",
    "outputId": "d99d6ad1-04d7-466b-fb81-787f6b49d3ff"
   },
   "outputs": [],
   "source": [
    "from google.colab import drive\n",
    "drive.mount('/content/drive')"
   ]
  },
  {
   "cell_type": "markdown",
   "metadata": {
    "id": "hXbU7sAxTqES"
   },
   "source": [
    "# __1. Train Data 분석__"
   ]
  },
  {
   "cell_type": "markdown",
   "metadata": {
    "id": "nvGRgKeZTqET"
   },
   "source": [
    "### __1.0 유효하지 않은 데이터 필터링__\n",
    "* train 데이터에서 대부분의 재발방지대책 및 향후조치계획 행(정답 행) 탐색\n",
    "* 정답 행 category화 수행\n",
    "    * -> '수동적 대책'과 '능동적 대책'으로 분화"
   ]
  },
  {
   "cell_type": "code",
   "execution_count": null,
   "metadata": {
    "executionInfo": {
     "elapsed": 511,
     "status": "ok",
     "timestamp": 1743074975972,
     "user": {
      "displayName": "김 선우",
      "userId": "08412778136116235349"
     },
     "user_tz": -540
    },
    "id": "sW2B-2KITqET"
   },
   "outputs": [],
   "source": [
    "path = '/content/drive/MyDrive/# 협동 업무/한솔데코 데이콘/A3/DB/'\n",
    "#path = '/DB/'\n",
    "train = pd.read_csv(f'{path}train.csv', encoding='utf-8-sig')"
   ]
  },
  {
   "cell_type": "code",
   "execution_count": null,
   "metadata": {
    "executionInfo": {
     "elapsed": 763,
     "status": "ok",
     "timestamp": 1743074976736,
     "user": {
      "displayName": "김 선우",
      "userId": "08412778136116235349"
     },
     "user_tz": -540
    },
    "id": "SigqBA7aTqEU"
   },
   "outputs": [],
   "source": [
    "train['공종(대분류)'] = train['공종'].str.split(' > ').str[0]\n",
    "train['공종(중분류)'] = train['공종'].str.split(' > ').str[1]\n",
    "train['사고객체(대분류)'] = train['사고객체'].str.split(' > ').str[0]\n",
    "train['사고객체(중분류)'] = train['사고객체'].str.split(' > ').str[1]\n",
    "train['장소(대분류)'] = train['장소'].str.split(' / ').str[0]\n",
    "train['장소(중분류)'] = train['장소'].str.split(' / ').str[1]\n",
    "train['부위(대분류)'] = train['부위'].str.split(' / ').str[0]\n",
    "train['부위(중분류)'] = train['부위'].str.split(' / ').str[1]"
   ]
  },
  {
   "cell_type": "code",
   "execution_count": null,
   "metadata": {
    "executionInfo": {
     "elapsed": 13,
     "status": "ok",
     "timestamp": 1743074994910,
     "user": {
      "displayName": "김 선우",
      "userId": "08412778136116235349"
     },
     "user_tz": -540
    },
    "id": "qm54UsGBTqEU"
   },
   "outputs": [],
   "source": [
    "filt_train = train[['공종', '사고객체', '공종(대분류)', '공종(중분류)', '사고객체(대분류)', '사고객체(중분류)',\n",
    "                       '인적사고', '물적사고', '사고객체', '작업프로세스',\n",
    "                       '장소(대분류)', '장소(중분류)', '부위(대분류)', '부위(중분류)', '사고원인', '재발방지대책 및 향후조치계획']]"
   ]
  },
  {
   "cell_type": "markdown",
   "metadata": {
    "id": "W6XAoSKbTqEU"
   },
   "source": [
    "#### __누락 데이터 탐색__"
   ]
  },
  {
   "cell_type": "code",
   "execution_count": null,
   "metadata": {
    "colab": {
     "base_uri": "https://localhost:8080/",
     "height": 460
    },
    "executionInfo": {
     "elapsed": 24,
     "status": "ok",
     "timestamp": 1743074995516,
     "user": {
      "displayName": "김 선우",
      "userId": "08412778136116235349"
     },
     "user_tz": -540
    },
    "id": "mWlRRUOqTqEU",
    "outputId": "3cffd8c9-8e54-46a8-fd58-6e69d2c7222d"
   },
   "outputs": [],
   "source": [
    "temp = train.isna().sum()\n",
    "temp.loc[temp>0]"
   ]
  },
  {
   "cell_type": "code",
   "execution_count": null,
   "metadata": {
    "colab": {
     "base_uri": "https://localhost:8080/",
     "height": 1000
    },
    "executionInfo": {
     "elapsed": 2538,
     "status": "ok",
     "timestamp": 1743074998282,
     "user": {
      "displayName": "김 선우",
      "userId": "08412778136116235349"
     },
     "user_tz": -540
    },
    "id": "6901CiZwTqEV",
    "outputId": "193fa5d6-54ad-4be2-d456-f6edc9ed8bf2"
   },
   "outputs": [],
   "source": [
    "# 첫번째 확인 -> 작업프로세스가 누락인 경우 -> 기자제 운행 및 관리\n",
    "columns = ['공종(대분류)', '공종(중분류)', '사고객체(대분류)', '사고객체(중분류)', '장소(대분류)', '장소(중분류)', '부위(대분류)', '부위(중분류)', '인적사고', '물적사고']#, '사고원인', '재발방지대책 및 향후조치계획']\n",
    "sel = filt_train.loc[filt_train['작업프로세스'].isna()]\n",
    "sel2 = sel[columns]\n",
    "for col in columns:\n",
    "    print(col)\n",
    "    countplot(sel2, col)"
   ]
  },
  {
   "cell_type": "code",
   "execution_count": null,
   "metadata": {
    "colab": {
     "base_uri": "https://localhost:8080/",
     "height": 1000
    },
    "executionInfo": {
     "elapsed": 3708,
     "status": "ok",
     "timestamp": 1743075001989,
     "user": {
      "displayName": "김 선우",
      "userId": "08412778136116235349"
     },
     "user_tz": -540
    },
    "id": "-MkkPhOVTqEV",
    "outputId": "bbb9a393-a2cc-4d63-d755-21a532974f4d"
   },
   "outputs": [],
   "source": [
    "# 두 번째 확인 -> 사고객체가 na인 경우\n",
    "sel = train.loc[train['사고객체'].isna()]\n",
    "sel_ = train.loc[train['사고객체(대분류)'] == '건설자재']\n",
    "sel__ = train.loc[train['사고객체(중분류)'] == '기타']\n",
    "sel2 = sel[columns]\n",
    "sel2_ = sel_[columns]\n",
    "for col in columns:\n",
    "    countplot(sel2, col)"
   ]
  },
  {
   "cell_type": "code",
   "execution_count": null,
   "metadata": {
    "colab": {
     "base_uri": "https://localhost:8080/",
     "height": 1000
    },
    "executionInfo": {
     "elapsed": 3530,
     "status": "ok",
     "timestamp": 1743075005518,
     "user": {
      "displayName": "김 선우",
      "userId": "08412778136116235349"
     },
     "user_tz": -540
    },
    "id": "k9ciq2U6TqEV",
    "outputId": "3a16d5d0-45b0-461d-d1ea-f6a305a87e0f"
   },
   "outputs": [],
   "source": [
    "sel = train.loc[train['사고원인'].isna()]\n",
    "columns = ['공종(대분류)', '공종(중분류)', '사고객체(대분류)', '사고객체(중분류)', '장소(대분류)', '장소(중분류)', '부위(대분류)', '부위(중분류)', '인적사고', '물적사고']\n",
    "for col in columns:\n",
    "    countplot(sel2, col)"
   ]
  },
  {
   "cell_type": "markdown",
   "metadata": {
    "id": "e1ri0duvTqEV"
   },
   "source": [
    "#### __공종__"
   ]
  },
  {
   "cell_type": "code",
   "execution_count": null,
   "metadata": {
    "executionInfo": {
     "elapsed": 24,
     "status": "ok",
     "timestamp": 1743075005532,
     "user": {
      "displayName": "김 선우",
      "userId": "08412778136116235349"
     },
     "user_tz": -540
    },
    "id": "pGxN-V9KTqEW"
   },
   "outputs": [],
   "source": [
    "idx = train.loc[train['공종'].isna()].index"
   ]
  },
  {
   "cell_type": "code",
   "execution_count": null,
   "metadata": {
    "colab": {
     "base_uri": "https://localhost:8080/",
     "height": 1000
    },
    "executionInfo": {
     "elapsed": 790,
     "status": "ok",
     "timestamp": 1743075006323,
     "user": {
      "displayName": "김 선우",
      "userId": "08412778136116235349"
     },
     "user_tz": -540
    },
    "id": "uGQppzHbTqEW",
    "outputId": "1b90e110-e776-4e2d-a97f-450bd1a4c5e3"
   },
   "outputs": [],
   "source": [
    "# 첫번째 확인 -> 공종이 누락인 경우 -> 기타와 큰 차이가 없음\n",
    "columns = ['공사종류', '사고객체(대분류)', '사고객체(중분류)', '장소', '부위','인적사고', '물적사고', '작업프로세스']#, '사고원인', '재발방지대책 및 향후조치계획']\n",
    "columns2 = ['공사종류']\n",
    "sel = train.loc[train['공종'].isna()]\n",
    "sel_ = train.loc[(train['공사종류'].str.contains('건축')) & (~train['공종'].isna())]\n",
    "sel2 = sel[columns2]\n",
    "sel2_ = sel_[columns2]\n",
    "for col in columns2:\n",
    "    countplot(sel2, col)\n",
    "for col in columns2:\n",
    "    countplot(sel2_, col)"
   ]
  },
  {
   "cell_type": "code",
   "execution_count": null,
   "metadata": {
    "executionInfo": {
     "elapsed": 1,
     "status": "ok",
     "timestamp": 1743075006325,
     "user": {
      "displayName": "김 선우",
      "userId": "08412778136116235349"
     },
     "user_tz": -540
    },
    "id": "ZI3-g1T0TqEW"
   },
   "outputs": [],
   "source": [
    "for row in range(len(sel)):\n",
    "    text1 = sel['공사종류'].iloc[row]\n",
    "    text2 = sel['사고원인'].iloc[row]\n",
    "    text3 = sel['사고객체'].iloc[row]\n",
    "    text4 = sel['작업프로세스'].iloc[row]"
   ]
  },
  {
   "cell_type": "code",
   "execution_count": null,
   "metadata": {
    "executionInfo": {
     "elapsed": 5,
     "status": "ok",
     "timestamp": 1743075006331,
     "user": {
      "displayName": "김 선우",
      "userId": "08412778136116235349"
     },
     "user_tz": -540
    },
    "id": "3xBOq5kRTqEW"
   },
   "outputs": [],
   "source": [
    "cate = '건축 / 건축물 / 관광 휴게시설'\n",
    "sel3 = sel.loc[sel['공사종류']==cate]\n",
    "sel3_ = train.loc[train['공사종류']==cate]"
   ]
  },
  {
   "cell_type": "code",
   "execution_count": null,
   "metadata": {
    "colab": {
     "base_uri": "https://localhost:8080/"
    },
    "executionInfo": {
     "elapsed": 9,
     "status": "ok",
     "timestamp": 1743075006344,
     "user": {
      "displayName": "김 선우",
      "userId": "08412778136116235349"
     },
     "user_tz": -540
    },
    "id": "dKTEQZrMTqEW",
    "outputId": "a7e4f9d2-b7ba-4f88-83c4-36691ab56340"
   },
   "outputs": [],
   "source": [
    "for row in range(len(sel3_)):\n",
    "    text1 = sel3_['공사종류'].iloc[row]\n",
    "    text2 = sel3_['사고원인'].iloc[row]\n",
    "    text3 = sel3_['사고객체'].iloc[row]\n",
    "    text4 = sel3_['작업프로세스'].iloc[row]\n",
    "    text5 = sel3_['공종'].iloc[row]\n",
    "    if '이동' in str(text4):\n",
    "        print(f'{row} \\n 공사종류: {text1} \\n 사고원인: {text2} \\n 사고객체: {text3} \\n 작업프로세스: {text4} \\n 공종: {text5}')"
   ]
  },
  {
   "cell_type": "code",
   "execution_count": null,
   "metadata": {
    "colab": {
     "base_uri": "https://localhost:8080/"
    },
    "executionInfo": {
     "elapsed": 17,
     "status": "ok",
     "timestamp": 1743075006362,
     "user": {
      "displayName": "김 선우",
      "userId": "08412778136116235349"
     },
     "user_tz": -540
    },
    "id": "CeuxB92XTqEX",
    "outputId": "c882fd15-2ca7-43f8-cba5-36079c27a6dd"
   },
   "outputs": [],
   "source": [
    "idx = [2856, 4706, 6235, 13429, 13708, 13866, 14143, 14715, 15805, 18108]\n",
    "remove_idx = [9122]\n",
    "nan = ['기타 > 기타', '건축 > 철근콘크리트공사', '기타 > 기타',\n",
    "       '기타 > 기타', '기타 > 기타', '기타 > 기타',\n",
    "       '건축 > 철근콘크리트공사', '기타 > 기타', '건축 > 철근콘크리트공사', '기타 > 기타']\n",
    "print(len(idx), len(nan))"
   ]
  },
  {
   "cell_type": "code",
   "execution_count": null,
   "metadata": {
    "executionInfo": {
     "elapsed": 100,
     "status": "ok",
     "timestamp": 1743075006461,
     "user": {
      "displayName": "김 선우",
      "userId": "08412778136116235349"
     },
     "user_tz": -540
    },
    "id": "KwnCk0EDTqEX"
   },
   "outputs": [],
   "source": [
    "data = train[['사고원인', '재발방지대책 및 향후조치계획']]\n",
    "data1 = train.loc[~train['재발방지대책 및 향후조치계획'].str.contains('재발방지대책 및 향후조치계획')]\n",
    "data2 = data1.loc[~data1['재발방지대책 및 향후조치계획'].str.contains('재발 방지 대책')]\n",
    "data3 = data2.loc[~data2['재발방지대책 및 향후조치계획'].str.contains('교육')]\n",
    "data4 = data3.loc[~data3['재발방지대책 및 향후조치계획'].str.contains('계획')]"
   ]
  },
  {
   "cell_type": "code",
   "execution_count": null,
   "metadata": {
    "executionInfo": {
     "elapsed": 1,
     "status": "ok",
     "timestamp": 1743075006463,
     "user": {
      "displayName": "김 선우",
      "userId": "08412778136116235349"
     },
     "user_tz": -540
    },
    "id": "vPawbJfETqEX"
   },
   "outputs": [],
   "source": [
    "def fillna_gongjong(df, idx, nan, remove_idx):\n",
    "    for i, j in enumerate(idx):\n",
    "        df.loc[j, '공종'] = nan[i]\n",
    "    df.drop(index=remove_idx, inplace=True)\n",
    "    return df"
   ]
  },
  {
   "cell_type": "code",
   "execution_count": null,
   "metadata": {
    "executionInfo": {
     "elapsed": 2,
     "status": "ok",
     "timestamp": 1743075006464,
     "user": {
      "displayName": "김 선우",
      "userId": "08412778136116235349"
     },
     "user_tz": -540
    },
    "id": "w3_cy4SBTqEX"
   },
   "outputs": [],
   "source": [
    "def fillna_preprocessing(df):\n",
    "    df.loc[df['인적사고'].isna()] = '없음'\n",
    "    df.loc[df['물적사고'].isna()] = '없음'\n",
    "    df.loc[df['사고객체'].isna()] = '기타 > 기타'\n",
    "    df.loc[df['사고원인'].isna()] = '파악 불가'\n",
    "    df.loc[df['작업프로세스'].isna()] = '기자제 운행 및 관리'\n",
    "    return df"
   ]
  },
  {
   "cell_type": "code",
   "execution_count": null,
   "metadata": {
    "executionInfo": {
     "elapsed": 791,
     "status": "ok",
     "timestamp": 1743075007254,
     "user": {
      "displayName": "김 선우",
      "userId": "08412778136116235349"
     },
     "user_tz": -540
    },
    "id": "FrOzumZHTqEX"
   },
   "outputs": [],
   "source": [
    "train = pd.read_csv(f'{path}train.csv', encoding='utf-8-sig')\n",
    "test = pd.read_csv(f'{path}test.csv', encoding = 'utf-8-sig')\n",
    "\n",
    "train = fillna_preprocessing(train)\n",
    "train = fillna_gongjong(train, idx, nan, remove_idx)\n",
    "test = fillna_preprocessing(test)\n",
    "\n",
    "train.to_csv(f'{path}train_preprocessing.csv', index=0, encoding='utf-8-sig')\n",
    "test.to_csv(f'{path}test_preprocessing.csv', index=0, encoding = 'utf-8-sig')"
   ]
  },
  {
   "cell_type": "code",
   "execution_count": null,
   "metadata": {
    "executionInfo": {
     "elapsed": 7,
     "status": "ok",
     "timestamp": 1743075007262,
     "user": {
      "displayName": "김 선우",
      "userId": "08412778136116235349"
     },
     "user_tz": -540
    },
    "id": "ZLsqP-b4XcDS"
   },
   "outputs": [],
   "source": []
  }
 ],
 "metadata": {
  "colab": {
   "provenance": []
  },
  "kernelspec": {
   "display_name": "Python 3 (ipykernel)",
   "language": "python",
   "name": "python3"
  },
  "language_info": {
   "codemirror_mode": {
    "name": "ipython",
    "version": 3
   },
   "file_extension": ".py",
   "mimetype": "text/x-python",
   "name": "python",
   "nbconvert_exporter": "python",
   "pygments_lexer": "ipython3",
   "version": "3.11.11"
  }
 },
 "nbformat": 4,
 "nbformat_minor": 0
}
