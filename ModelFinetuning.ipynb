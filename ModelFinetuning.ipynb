{
 "cells": [
  {
   "cell_type": "markdown",
   "metadata": {
    "id": "Vb3ZZ9E7u63t"
   },
   "source": [
    "# 개발 환경 OS"
   ]
  },
  {
   "cell_type": "code",
   "execution_count": null,
   "metadata": {
    "colab": {
     "base_uri": "https://localhost:8080/"
    },
    "executionInfo": {
     "elapsed": 208,
     "status": "ok",
     "timestamp": 1743064441010,
     "user": {
      "displayName": "김성호",
      "userId": "00973481409333192946"
     },
     "user_tz": -540
    },
    "id": "9kowr5H6u97j",
    "outputId": "cc2f4628-edf4-48a8-b8e8-37f0224e7697"
   },
   "outputs": [],
   "source": [
    "# !nvidia-smi"
   ]
  },
  {
   "cell_type": "code",
   "execution_count": null,
   "metadata": {
    "colab": {
     "base_uri": "https://localhost:8080/"
    },
    "executionInfo": {
     "elapsed": 159,
     "status": "ok",
     "timestamp": 1743064441175,
     "user": {
      "displayName": "김성호",
      "userId": "00973481409333192946"
     },
     "user_tz": -540
    },
    "id": "ep14fHYKu-By",
    "outputId": "646c2849-330d-4502-d22d-29299a66a456"
   },
   "outputs": [],
   "source": [
    "# !head /proc/cpuinfo"
   ]
  },
  {
   "cell_type": "code",
   "execution_count": null,
   "metadata": {
    "colab": {
     "base_uri": "https://localhost:8080/"
    },
    "executionInfo": {
     "elapsed": 95,
     "status": "ok",
     "timestamp": 1743064441273,
     "user": {
      "displayName": "김성호",
      "userId": "00973481409333192946"
     },
     "user_tz": -540
    },
    "id": "NLjkT7ycu-IK",
    "outputId": "a4408ee1-a883-410e-d9da-a054bdbcf9e5"
   },
   "outputs": [],
   "source": [
    "# !head -n 3 /proc/meminfo"
   ]
  },
  {
   "cell_type": "code",
   "execution_count": null,
   "metadata": {
    "colab": {
     "base_uri": "https://localhost:8080/"
    },
    "executionInfo": {
     "elapsed": 163,
     "status": "ok",
     "timestamp": 1743064998473,
     "user": {
      "displayName": "김성호",
      "userId": "00973481409333192946"
     },
     "user_tz": -540
    },
    "id": "RZ5Vxnw5xPlc",
    "outputId": "5362edfc-fd21-47d3-ebd6-f00fb30d78c4"
   },
   "outputs": [],
   "source": [
    "# import sys\n",
    "# print(f\"Python version: {sys.version}\")"
   ]
  },
  {
   "cell_type": "markdown",
   "metadata": {
    "id": "YF-G0sVuZyo_"
   },
   "source": [
    "#Library"
   ]
  },
  {
   "cell_type": "code",
   "execution_count": null,
   "metadata": {
    "colab": {
     "base_uri": "https://localhost:8080/"
    },
    "executionInfo": {
     "elapsed": 101367,
     "status": "ok",
     "timestamp": 1743063691125,
     "user": {
      "displayName": "김성호",
      "userId": "00973481409333192946"
     },
     "user_tz": -540
    },
    "id": "vtWA_tCsZs41",
    "outputId": "02a2a1cd-9943-4b72-a9f4-21d21443136d"
   },
   "outputs": [],
   "source": [
    "!pip install torch"
   ]
  },
  {
   "cell_type": "code",
   "execution_count": null,
   "metadata": {
    "colab": {
     "base_uri": "https://localhost:8080/"
    },
    "executionInfo": {
     "elapsed": 9246,
     "status": "ok",
     "timestamp": 1743063700378,
     "user": {
      "displayName": "김성호",
      "userId": "00973481409333192946"
     },
     "user_tz": -540
    },
    "id": "-1YYtEziZtDt",
    "outputId": "2157916d-cee2-43db-f2ea-e5bf1ebfbd35"
   },
   "outputs": [],
   "source": [
    "!pip install datasets transformers"
   ]
  },
  {
   "cell_type": "code",
   "execution_count": null,
   "metadata": {
    "colab": {
     "base_uri": "https://localhost:8080/"
    },
    "executionInfo": {
     "elapsed": 37868,
     "status": "ok",
     "timestamp": 1743063738250,
     "user": {
      "displayName": "김성호",
      "userId": "00973481409333192946"
     },
     "user_tz": -540
    },
    "id": "nsVT8XqUahCt",
    "outputId": "757d709d-2923-4330-fc63-d33bc08487a4"
   },
   "outputs": [],
   "source": [
    "import os\n",
    "import re\n",
    "import json\n",
    "import torch\n",
    "import random\n",
    "import numpy as np\n",
    "import pandas as pd\n",
    "import tqdm\n",
    "import datasets\n",
    "import transformers\n",
    "import pkg_resources\n",
    "import sentence_transformers\n",
    "\n",
    "from tqdm import tqdm\n",
    "from copy import deepcopy\n",
    "\n",
    "from sklearn.model_selection import train_test_split\n",
    "\n",
    "from datasets import load_dataset, Dataset\n",
    "from transformers import Trainer, TrainingArguments, EarlyStoppingCallback,  BartForConditionalGeneration, PreTrainedTokenizerFast\n",
    "from sentence_transformers import SentenceTransformer"
   ]
  },
  {
   "cell_type": "code",
   "execution_count": null,
   "metadata": {
    "colab": {
     "base_uri": "https://localhost:8080/"
    },
    "executionInfo": {
     "elapsed": 163,
     "status": "ok",
     "timestamp": 1743063738420,
     "user": {
      "displayName": "김성호",
      "userId": "00973481409333192946"
     },
     "user_tz": -540
    },
    "id": "EI1nfdQSo8yP",
    "outputId": "933960e5-c92f-4346-9998-586085817b6a"
   },
   "outputs": [],
   "source": [
    "# # 각 라이브러리의 버전 출력\n",
    "# print(f\"torch version: {torch.__version__}\")\n",
    "# print(f\"numpy version: {np.__version__}\")\n",
    "# print(f\"pandas version: {pd.__version__}\")\n",
    "# print(f\"tqdm version: {pkg_resources.get_distribution('tqdm').version}\")\n",
    "# print(f\"scikit-learn version: {pkg_resources.get_distribution('scikit-learn').version}\")\n",
    "# print(f\"datasets version: {pkg_resources.get_distribution('datasets').version}\")\n",
    "# print(f\"transformers version: {pkg_resources.get_distribution('transformers').version}\")\n",
    "# print(f\"sentence_transformers version: {pkg_resources.get_distribution('sentence-transformers').version}\")"
   ]
  },
  {
   "cell_type": "markdown",
   "metadata": {
    "id": "X6rz3FU0Z3Gb"
   },
   "source": [
    "# 경로 설정"
   ]
  },
  {
   "cell_type": "code",
   "execution_count": null,
   "metadata": {
    "colab": {
     "base_uri": "https://localhost:8080/"
    },
    "executionInfo": {
     "elapsed": 26182,
     "status": "ok",
     "timestamp": 1743050124298,
     "user": {
      "displayName": "김성호",
      "userId": "00973481409333192946"
     },
     "user_tz": -540
    },
    "id": "EBBLQzpUZF0h",
    "outputId": "18d26f50-236f-40c2-a950-7405f6acc6eb"
   },
   "outputs": [],
   "source": [
    "# from google.colab import drive\n",
    "# drive.mount('/content/drive')"
   ]
  },
  {
   "cell_type": "code",
   "execution_count": null,
   "metadata": {
    "id": "K-wYnOujZtJC"
   },
   "outputs": [],
   "source": [
    "# path = '/content/drive/MyDrive/A3/' # Colab에서 실행 시\n",
    "path = '/' # Local에서 실행 시\n",
    "db_path = path + 'DB/'\n",
    "vectorstore_path = path + 'VectorStore/'\n",
    "model_path = path + 'Model/'\n",
    "score_path = path + 'TestScore/'"
   ]
  },
  {
   "cell_type": "markdown",
   "metadata": {
    "id": "BIJTUGZNZtM9"
   },
   "source": [
    "# 데이터 로드 및 전처리"
   ]
  },
  {
   "cell_type": "code",
   "execution_count": null,
   "metadata": {
    "id": "YQRy_IDzZtRm"
   },
   "outputs": [],
   "source": [
    "train = pd.read_csv(db_path + 'train_preprocessing.csv')\n",
    "test = pd.read_csv(db_path + 'test_preprocessing.csv')"
   ]
  },
  {
   "cell_type": "code",
   "execution_count": null,
   "metadata": {
    "id": "Y0Ryt60fZtVw"
   },
   "outputs": [],
   "source": [
    "# 데이터 전처리\n",
    "train['공사종류(대분류)'] = train['공사종류'].str.split(' / ').str[0]\n",
    "train['공사종류(중분류)'] = train['공사종류'].str.split(' / ').str[1]\n",
    "train['공종(대분류)'] = train['공종'].str.split(' > ').str[0]\n",
    "train['공종(중분류)'] = train['공종'].str.split(' > ').str[1]\n",
    "train['사고객체(대분류)'] = train['사고객체'].str.split(' > ').str[0]\n",
    "train['사고객체(중분류)'] = train['사고객체'].str.split(' > ').str[1]\n",
    "\n",
    "test['공사종류(대분류)'] = test['공사종류'].str.split(' / ').str[0]\n",
    "test['공사종류(중분류)'] = test['공사종류'].str.split(' / ').str[1]\n",
    "test['공종(대분류)'] = test['공종'].str.split(' > ').str[0]\n",
    "test['공종(중분류)'] = test['공종'].str.split(' > ').str[1]\n",
    "test['사고객체(대분류)'] = test['사고객체'].str.split(' > ').str[0]\n",
    "test['사고객체(중분류)'] = test['사고객체'].str.split(' > ').str[1]"
   ]
  },
  {
   "cell_type": "code",
   "execution_count": null,
   "metadata": {
    "id": "Ztt79j2uZtZo"
   },
   "outputs": [],
   "source": [
    "# 공사종류 대분류, 공종 중분류, 사고객체 중분류, 작업프로세스\n",
    "# 훈련 데이터 생성\n",
    "data = train.apply(\n",
    "    lambda row: {\n",
    "        \"process\": row[\"작업프로세스\"],\n",
    "        \"construct_type\": row[\"공종(중분류)\"],\n",
    "        \"object_type\": row[\"사고객체(중분류)\"],\n",
    "        \"situation\": (\n",
    "            f\"'{row['공사종류(대분류)']}' 공사 중 '{row['공종(중분류)']}' 작업 중 '{row['사고원인']}'으로 인해 사고가 발생하였습니다.\"),\n",
    "        \"response\": row['재발방지대책 및 향후조치계획']\n",
    "    },\n",
    "    axis=1\n",
    ")\n",
    "\n",
    "# DataFrame으로 변환\n",
    "data = pd.DataFrame(list(data))"
   ]
  },
  {
   "cell_type": "code",
   "execution_count": null,
   "metadata": {
    "id": "6pNzRbDdZtcz"
   },
   "outputs": [],
   "source": [
    "train, val = train_test_split(data, test_size=0.1, random_state=42)"
   ]
  },
  {
   "cell_type": "code",
   "execution_count": null,
   "metadata": {
    "id": "Krotd9uyZtf9"
   },
   "outputs": [],
   "source": [
    "# 텐서 데이터셋\n",
    "train_ds = Dataset.from_pandas(train)\n",
    "val_ds = Dataset.from_pandas(val)"
   ]
  },
  {
   "cell_type": "markdown",
   "metadata": {
    "id": "6lOPfzbZZtjr"
   },
   "source": [
    "# 파인튜닝\n"
   ]
  },
  {
   "cell_type": "markdown",
   "metadata": {
    "id": "Rh1U6m5fjECC"
   },
   "source": [
    "## 모델 로드"
   ]
  },
  {
   "cell_type": "code",
   "execution_count": null,
   "metadata": {
    "colab": {
     "base_uri": "https://localhost:8080/",
     "height": 356,
     "referenced_widgets": [
      "ba1dd514ddef4ae6a64d3e700afaf5da",
      "6fca83e86d3143ca8aa23bf29642fedc",
      "8393d391a2b741c595ef4c17f878ad40",
      "dec5fc2a5f704f3a94506e39366e5606",
      "83c31eecae534270ac2cda7e9ed15782",
      "a63b2d4a93d2406fb3e07f14c7d9f671",
      "7a7296358b134587a770b1477e857086",
      "fea4eeb90ec3452090f3d1e7c53e9841",
      "2e0091e5589c4cbeb391a8c226f13ec2",
      "9a7979398d994b92926899ce45f4b528",
      "5722f0a60a02412183ebc03668f6b1c0",
      "fbe8cbc59e00499aa0c4702a7837fb7a",
      "68f60943da444b55b84b1ef57ef5aef0",
      "1999ebaa97f949978b52130a06db9f11",
      "47bfc8168c404737bc33595b87991e64",
      "4a91b8878fa841eeb6f2ec369bc17164",
      "9c6c4529ce9e4e0b8703b42f960d6585",
      "48a18828f4504dd88fa3af7db492aad9",
      "a5f189862f0a4909ac2d0fbb8d0f1acf",
      "a91d13ac3c374fe1acea99a4ee19eb30",
      "e2d1e04bed314c8eb56a063d0e6dfc4d",
      "0940fb28714640e28e6968d3e4a82165",
      "300a30b3b3ec4bceb40344775b526090",
      "c6aab4cf9a4f429ea74b3cdaa7d0fba8",
      "9cf4b2e667464f36a3483e577b05b952",
      "d94e650dd8c94829bb29d7e19caca330",
      "90572ebd307143a5babb092c8c3e326e",
      "950ec07d38da4438a3770e7015675688",
      "a890b3e7fc28481aa33def871c6a8763",
      "92b414bba74e402ca906ac72730f0b4e",
      "68bfd2f332264907a8e33b28c6a545b3",
      "3dab445976154e9fa18ae40ca5af0d9e",
      "ce84e214bf804e65bf899429a17e4dea",
      "a2391fa8f220472ba6805b94b45739f5",
      "8f75b6403b6f4111a44b91b96730135d",
      "aa7fda6e6ae242c5af86de536d71b044",
      "84755a9975424fae8b88ef191494cc7b",
      "bf7c148ac9d94f9fb7c9ae7bd0e94f8c",
      "5d9cf9aa91eb47b5a0c51fdf97d430ab",
      "0be16d3a37284d60977ccae708662849",
      "e7a1c7bbd02d482ab088eaeaab781c00",
      "1cd85573dc3c459cb78f3b288d70a4aa",
      "2510f8625a4c4d9db81f3aae0c184dac",
      "d3755422afcf4548afd0bb0eee0bc93a",
      "e9b080bc4c964c709d54a41406e618ee",
      "1218e32c59f34d3a83294a10b4f91917",
      "3c98ae8cc2a24828b54758367cf51f57",
      "a5c442b226114f0fa03a93b344b32e5f",
      "563e1072bc7e42f5930a1b37efa1ffae",
      "ac3b089fe55241fda877fd9edf1948c7",
      "e520046867dc49b8925cd5748a6f276a",
      "69214d6dab09436e89f1ddc22656b630",
      "60c891dd60b94772bad54e17b121d099",
      "867c6b3be6064a87a7aaaecb42218f2a",
      "e15d44fc963d436592560c3dc5f70444",
      "68e03523c08345b1bed7f5e5814e856a",
      "1ac24e70976b484e96294d1d87ff4107",
      "68174ee2aca240b7bd9f0f422f3fc4d1",
      "efa2975284a84508acfc9c4bf7f14fb2",
      "84ba196520bd490187bf613ec2c2f972",
      "724dbf7ffd3244f38ff0cb833e897492",
      "efc062e16627416eb6d7fd65ad73c998",
      "1f915be0dc7f4e3daaee2ae645526354",
      "fa95098e13b44b05a51b7158e091ac98",
      "01d1820f2c3b40299ecc436b2508c69e",
      "54a8f27340cc47a889245e6b323f4b3f"
     ]
    },
    "executionInfo": {
     "elapsed": 8393,
     "status": "ok",
     "timestamp": 1743047720502,
     "user": {
      "displayName": "김성호",
      "userId": "00973481409333192946"
     },
     "user_tz": -540
    },
    "id": "N_UXYwCudveJ",
    "outputId": "5954fdbe-fad2-4754-8c05-7e6b0e4c378b"
   },
   "outputs": [],
   "source": [
    "tokenizer = PreTrainedTokenizerFast.from_pretrained('hyunwoongko/kobart')\n",
    "model = BartForConditionalGeneration.from_pretrained('hyunwoongko/kobart',num_labels=2)"
   ]
  },
  {
   "cell_type": "code",
   "execution_count": null,
   "metadata": {
    "colab": {
     "base_uri": "https://localhost:8080/",
     "height": 81,
     "referenced_widgets": [
      "5640881740074fbf87b4156a91f1df0d",
      "dd841f4486bc4827acdca0593bffbe86",
      "7eaff4ac12594d8a89825c6630d67bbc",
      "da42507fcea14231a9f83a8213daaea0",
      "d45115cb569e43dcbda50510626f5c55",
      "3374b67191324d2b88c6197e5f22c7db",
      "a3ec089168694e7584a3b0bf38f60755",
      "0c306270a58e43c8b40d74dd2123381c",
      "6c33e3a8a5534adf8ed8b42b193155b2",
      "9ea6163aa5094596b6243e87a23dab8a",
      "712e08faaddb447da3a8e38eeafc98ec",
      "23e0efba244349a4ab338b0b9076ca9c",
      "979d25af421c4be88bec6350d0bdcc44",
      "04be7106a8d040bbbdf4de2d3b3aafa8",
      "6da2a5bcc9b84cc1a4b035f15ffa8291",
      "5696ac8cc0e849cead8186ea5d954830",
      "cc55dbe5e72343d7b7624e446004adcd",
      "807be413a9294fb3ad415d7da0f329e2",
      "c6b243ef4f5040da84f593718c22639f",
      "f56fb3148ffb4917996f27ef287e8a29",
      "469806c4a2494bffb8dda7de5be1873a",
      "8ae5b5a9a2c64326b0ffd1d3d0b6ceeb"
     ]
    },
    "executionInfo": {
     "elapsed": 25311,
     "status": "ok",
     "timestamp": 1743047745858,
     "user": {
      "displayName": "김성호",
      "userId": "00973481409333192946"
     },
     "user_tz": -540
    },
    "id": "UxM0PougdxP3",
    "outputId": "638d6a9b-0809-424b-ac9a-e0370a065ff9"
   },
   "outputs": [],
   "source": [
    "# 패딩 토큰 설정 확인\n",
    "if tokenizer.pad_token is None:\n",
    "    tokenizer.pad_token = tokenizer.eos_token\n",
    "\n",
    "def preprocess_function(data):\n",
    "    tokenizer.pad_token = tokenizer.eos_token  # 패딩 토큰 설정\n",
    "\n",
    "    # Encoder Input (입력)\n",
    "    inputs = [\n",
    "        f\"\"\"제공된 data는 건설 공사현장에서 발생한 사고 상황입니다. 주어진 situation을 분석하고 재발방지 대책을 포함한 대응책을 작성하세요.\n",
    "        ### process:\n",
    "        {p}\n",
    "\n",
    "        ### construct_type:\n",
    "        {ct}\n",
    "\n",
    "        ### object_type:\n",
    "        {ot}\n",
    "\n",
    "        ### situation:\n",
    "        {q}\n",
    "\n",
    "        ### response:\"\"\"\n",
    "        for p, ct, ot, q in zip(\n",
    "            data[\"process\"],\n",
    "            data[\"construct_type\"],\n",
    "            data[\"object_type\"],\n",
    "            data[\"situation\"]\n",
    "        )\n",
    "    ]\n",
    "\n",
    "    # Decoder Target (출력)\n",
    "    targets = [\n",
    "        f\"{res}{tokenizer.eos_token}\"\n",
    "        for res in data[\"response\"]\n",
    "    ]\n",
    "\n",
    "    # 토큰화 - 입력\n",
    "    encodings = tokenizer(\n",
    "        inputs,\n",
    "        truncation=True,\n",
    "        padding=\"max_length\",\n",
    "        max_length=512,  # 충분한 입력 길이 확보\n",
    "        return_tensors=\"pt\"\n",
    "    )\n",
    "\n",
    "    # 토큰화 - 출력\n",
    "    target_encodings = tokenizer(\n",
    "        targets,\n",
    "        truncation=True,\n",
    "        padding=\"max_length\",\n",
    "        max_length=128,  # 출력은 비교적 짧게\n",
    "        return_tensors=\"pt\"\n",
    "    )\n",
    "\n",
    "    # 라벨 설정 (Loss 계산 시 패딩 무시)\n",
    "    encodings[\"labels\"] = target_encodings[\"input_ids\"].clone()\n",
    "    encodings[\"labels\"][encodings[\"labels\"] == tokenizer.pad_token_id] = -100\n",
    "\n",
    "    return encodings\n",
    "\n",
    "\n",
    "# 데이터셋 변환 (불필요한 컬럼 삭제)\n",
    "train_ds = train_ds.map(preprocess_function, batched=True, remove_columns=train_ds.column_names)\n",
    "val_ds = val_ds.map(preprocess_function, batched=True, remove_columns=val_ds.column_names)\n",
    "\n",
    "# 필요한 컬럼만 유지\n",
    "columns = [\"input_ids\", \"attention_mask\", \"labels\"]\n",
    "train_ds.set_format(type=\"torch\", columns=columns)\n",
    "val_ds.set_format(type=\"torch\", columns=columns)"
   ]
  },
  {
   "cell_type": "markdown",
   "metadata": {
    "id": "TUoPRIUMdxsh"
   },
   "source": [
    "## 하이퍼파라미터"
   ]
  },
  {
   "cell_type": "code",
   "execution_count": null,
   "metadata": {
    "id": "Qg-2ulqUdyND"
   },
   "outputs": [],
   "source": [
    "training_args = TrainingArguments(\n",
    "    output_dir=\"./results\",               # 출력 디렉토리\n",
    "    eval_strategy=\"epoch\",                # 에폭마다 평가\n",
    "    save_strategy=\"epoch\",                # 에폭마다 체크포인트 저장\n",
    "    learning_rate=1e-5,                   # <--[수정] 학습률 증가\n",
    "    per_device_train_batch_size=4,        # <--[수정] 배치 사이즈 감소\n",
    "    per_device_eval_batch_size=4,         # <--[수정] 평가 배치 사이즈 감소\n",
    "    gradient_accumulation_steps=2,        # 배치 사이즈 효과를 늘리는 대안\n",
    "    num_train_epochs=10,                  # <--[수정] Epoch 감소\n",
    "    weight_decay=0.01,                    # <--[수정] weight decay 조정\n",
    "    load_best_model_at_end=True,          # 가장 좋은 모델을 마지막에 로드\n",
    "    logging_dir=\"./logs\",                 # 로깅 디렉토리\n",
    "    logging_steps=100,                    # <--[수정] 로깅 간격 증가\n",
    "    report_to=\"tensorboard\"               # TensorBoard에 로깅\n",
    ")\n"
   ]
  },
  {
   "cell_type": "code",
   "execution_count": null,
   "metadata": {
    "colab": {
     "base_uri": "https://localhost:8080/"
    },
    "executionInfo": {
     "elapsed": 56,
     "status": "ok",
     "timestamp": 1743047745966,
     "user": {
      "displayName": "김성호",
      "userId": "00973481409333192946"
     },
     "user_tz": -540
    },
    "id": "TExjpR_rdybE",
    "outputId": "7581f33e-26fa-4fab-f4e8-e04f8291205f"
   },
   "outputs": [],
   "source": [
    "# 패딩 토큰 추가\n",
    "tokenizer.add_special_tokens({'pad_token': tokenizer.eos_token})\n",
    "\n",
    "# 모델에 tokenizer 변경 사항 반영\n",
    "model.resize_token_embeddings(len(tokenizer))  # mean_resizing 제거"
   ]
  },
  {
   "cell_type": "markdown",
   "metadata": {
    "id": "Wm2XW_8hdyla"
   },
   "source": [
    "## 학습"
   ]
  },
  {
   "cell_type": "code",
   "execution_count": null,
   "metadata": {
    "id": "dObXD3MQd0R1"
   },
   "outputs": [],
   "source": [
    "# Trainer 설정\n",
    "trainer = Trainer(\n",
    "    model=model,                         # 학습할 모델\n",
    "    args=training_args,                  # TrainingArguments\n",
    "    train_dataset = train_ds,\n",
    "    eval_dataset = val_ds,\n",
    "    processing_class=tokenizer,\n",
    "    callbacks=[EarlyStoppingCallback(early_stopping_patience=1)], # 조기 종료\n",
    ")\n",
    "\n",
    "# 모델 학습\n",
    "trainer.train()"
   ]
  },
  {
   "cell_type": "markdown",
   "metadata": {
    "id": "Fql90Z6ldpDA"
   },
   "source": [
    "## 모델 저장"
   ]
  },
  {
   "cell_type": "code",
   "execution_count": null,
   "metadata": {
    "colab": {
     "base_uri": "https://localhost:8080/"
    },
    "executionInfo": {
     "elapsed": 9076,
     "status": "ok",
     "timestamp": 1743047993399,
     "user": {
      "displayName": "김성호",
      "userId": "00973481409333192946"
     },
     "user_tz": -540
    },
    "id": "fCC0elyndpa-",
    "outputId": "f7785f74-75d7-4af4-b8e0-62cd73933fa3"
   },
   "outputs": [],
   "source": [
    "model_name = 'kobart7'\n",
    "output_dir = model_path + model_name\n",
    "\n",
    "trainer.save_model(output_dir)\n",
    "tokenizer.save_pretrained(output_dir)"
   ]
  },
  {
   "cell_type": "markdown",
   "metadata": {
    "id": "_AvFlnaIdqqi"
   },
   "source": [
    "# 모델 테스트(Val)"
   ]
  },
  {
   "cell_type": "markdown",
   "metadata": {
    "id": "69d23BJtdriz"
   },
   "source": [
    "## 모델 불러오기"
   ]
  },
  {
   "cell_type": "code",
   "execution_count": null,
   "metadata": {
    "colab": {
     "base_uri": "https://localhost:8080/"
    },
    "executionInfo": {
     "elapsed": 10789,
     "status": "ok",
     "timestamp": 1743050289562,
     "user": {
      "displayName": "김성호",
      "userId": "00973481409333192946"
     },
     "user_tz": -540
    },
    "id": "pEeogDbRhA8u",
    "outputId": "c4d320d5-1bd8-4bd0-9409-30c8bffa4a17"
   },
   "outputs": [],
   "source": [
    "model_name = 'kobart7'\n",
    "\n",
    "# 저장된 모델 경로\n",
    "load_model_path = model_path + model_name\n",
    "\n",
    "# 모델 & 토크나이저 로드\n",
    "model = BartForConditionalGeneration.from_pretrained(load_model_path, device_map=\"auto\", num_labels=2)\n",
    "tokenizer = PreTrainedTokenizerFast.from_pretrained(load_model_path)\n",
    "\n",
    "print(\"모델과 토크나이저가 정상적으로 로드되었습니다!\")\n",
    "\n",
    "print(\"pad_token:\", tokenizer.pad_token)\n",
    "print(\"pad_token_id:\", tokenizer.pad_token_id)"
   ]
  },
  {
   "cell_type": "markdown",
   "metadata": {
    "id": "h6Az_6-LhBZc"
   },
   "source": [
    "## 텍스트 추론"
   ]
  },
  {
   "cell_type": "code",
   "execution_count": null,
   "metadata": {
    "id": "rUsiiiUdhBrn"
   },
   "outputs": [],
   "source": [
    "def generate_answer_val(val, model, tokenizer, max_new_tokens=50):\n",
    "    # 🔹 프롬프트 템플릿\n",
    "    prompt = '''\n",
    "    제공된 data는 건설 공사현장에서 발생한 사고 상황입니다. 주어진 situation을 분석해 재발방지 대책을 포함한 대응책을 response에 작성하세요.\n",
    "\n",
    "    ### process:\n",
    "    {process}\n",
    "\n",
    "    ### construct_type:\n",
    "    {construct_type}\n",
    "\n",
    "    ### object_type:\n",
    "    {object_type}\n",
    "\n",
    "    ### situation:\n",
    "    {situation}\n",
    "\n",
    "    ※ Example response:\n",
    "    - 작업자 안전교육 및 재발 방지 대책 수립과 작업 전 안전교육 철저 및 관리자 추가 배치를 통한 동종 사고 예방.\n",
    "    - 근로자 보행 통로 구간 안전표지판 설치와 특별안전교육 실시, 일일 작업 투입 전 상시 교육, 관리 대상 선정 등을 통한 이동 구간 보행 안전 확보와 작업자 안전 교육 지시.\n",
    "    ### response:\n",
    "    '''\n",
    "\n",
    "    # 값 추출\n",
    "    process = val['process']\n",
    "    construct_type = val['construct_type']\n",
    "    object_type = val['object_type']\n",
    "    situation = val['situation']\n",
    "\n",
    "    # 프롬프트 완성\n",
    "    formatted_prompt = prompt.format(\n",
    "        process=process,\n",
    "        construct_type=construct_type,\n",
    "        object_type=object_type,\n",
    "        situation=situation\n",
    "    )\n",
    "\n",
    "    # 토큰화\n",
    "    inputs = tokenizer(\n",
    "        formatted_prompt,\n",
    "        return_tensors=\"pt\",\n",
    "        truncation=True,\n",
    "        max_length=512,\n",
    "    )\n",
    "\n",
    "    # 디바이스 설정\n",
    "    device = \"cuda\" if torch.cuda.is_available() else \"cpu\"\n",
    "    model.to(device)\n",
    "    inputs = {k: v.to(device) for k, v in inputs.items()}\n",
    "\n",
    "    # 생성\n",
    "    outputs = model.generate(\n",
    "        **inputs,\n",
    "        max_new_tokens=max_new_tokens,\n",
    "        do_sample=True,  # 샘플링 활성화\n",
    "        top_k=40,\n",
    "        temperature=0.7,\n",
    "        top_p=0.85,\n",
    "        repetition_penalty=1.2,\n",
    "        num_return_sequences=1\n",
    "    )\n",
    "\n",
    "    # 디코딩 및 후처리\n",
    "    generated_text = tokenizer.batch_decode(outputs, skip_special_tokens=True)[0]\n",
    "\n",
    "    # 자연스러운 한 문장만 추출\n",
    "    def postprocess_korean_sentence(text):\n",
    "        sentences = re.split(r'(?<=[다|요|함|됨|합니다|됩니다|있습니다|예정입니다])\\s+', text.strip())\n",
    "        return sentences[0].strip() + '.' if sentences else text.strip()\n",
    "\n",
    "    return postprocess_korean_sentence(generated_text)"
   ]
  },
  {
   "cell_type": "code",
   "execution_count": null,
   "metadata": {
    "colab": {
     "base_uri": "https://localhost:8080/"
    },
    "executionInfo": {
     "elapsed": 3809,
     "status": "ok",
     "timestamp": 1743049373927,
     "user": {
      "displayName": "김성호",
      "userId": "00973481409333192946"
     },
     "user_tz": -540
    },
    "id": "WpTrs7yPljQx",
    "outputId": "1ab123a1-a751-4db2-adf0-dc08bf5f3146"
   },
   "outputs": [],
   "source": [
    "# 하나만 테스트하기\n",
    "ex = val.iloc[0]\n",
    "process = ex['process']\n",
    "construct_type = ex['construct_type']\n",
    "object_type = ex['object_type']\n",
    "situation = ex['situation']\n",
    "response = ex['response']\n",
    "generated_text = generate_answer_val(ex, model, tokenizer)\n",
    "\n",
    "print(f\"정답: {response}\")\n",
    "print(f\"생성된 문장: {generated_text}\")"
   ]
  },
  {
   "cell_type": "markdown",
   "metadata": {
    "id": "4vP677U4lErF"
   },
   "source": [
    "## 임베딩 모델 로드"
   ]
  },
  {
   "cell_type": "code",
   "execution_count": null,
   "metadata": {
    "colab": {
     "base_uri": "https://localhost:8080/",
     "height": 530,
     "referenced_widgets": [
      "93737a835764487892471acd68045c2c",
      "2b89ce4690f3430d88722cdf92ec8e94",
      "74eb3c1e33554039bef3105504960624",
      "98f154b1abc246baae1a6b3363a4d8d6",
      "ac4c441fb6ab4484bcbd747b0a1ab6c9",
      "6b0cccb2ec5c4c42b456fab91aef6326",
      "ad3d05657c0f4f6da91cdbed132bb378",
      "5c2bda831325465ea3f9b271da9d4d66",
      "9af0569db27c41c7aa0b5e41df1a8601",
      "cac4adb28aea4a1c89050f7c49d24a56",
      "1de6d5bf346d45f78b62c4bd8c65589b",
      "df1fb0b7f1c3480c8be7e299b60b674d",
      "f23e5c0cc97848d0abf0b5eb16b9e632",
      "d3d3e702f2ec4e8bb925be12df102ce4",
      "cc3ffcac49704e8aa6c98a823af3459e",
      "3618859f685b451f92ed0635c31f63a4",
      "a71319f1a7bc4e789a1b5f536b0e5831",
      "11c31f39b2d84fcc874118edbfc6de96",
      "079a4fe215414d07b44c8949c35ff98d",
      "3007ce75f57e49bbb963d47be24788b4",
      "92748272e3204d80b0c8f06a322cf226",
      "d3d078696c834af6b05ec9c4bba3022e",
      "af04efd1477c4aebb7f094945250f626",
      "ae33cfe3a51948869b5475f7069b9fad",
      "e5fedba059f3456cae394626d4bf46f0",
      "70cb5802f1df444ea59099ee51149e59",
      "83ee2b9e7f0e4e91a45124e23a034fb7",
      "031d66fc4356462587dd66417260b7bf",
      "39c256991e804a228f143ffdba039db4",
      "2fedefab3c8242388aaf46107c8eef24",
      "726e0c1038c04d08b4b85f09525a4411",
      "d63ead3d6ae2495691a3bbf0a1f261ee",
      "ce6e6470f4dc4ad6bfd544ddcd05ab6d",
      "89749de3e76b40d8bf8309b1989d26cc",
      "2598b214650a49aa85283e04e3f7bc72",
      "c7f808fa7c0b40a9b7d52f2e0985487c",
      "79e2f03354b4422f9d46ede0c47766a1",
      "1de31059aaad4bc7bbfdf9d9fb243f52",
      "7298000e8f33442baeb6d057301628b0",
      "d148cd814ab94cebbc6267000c9f7ed8",
      "f893f57be2144092a59be242ec06812d",
      "5ab6f70c8455460899d453efc7c43379",
      "961010483e074e9c9c821c58b17f0210",
      "cba2bc3af38244318f983fe2e44df656",
      "70fca0f9b9d74be3ae797cfe49ffa7b9",
      "3de3f728a2df4cbfb922fdcbc2794267",
      "5bf41c82c5d042c487c6ebbc191811c3",
      "de5f73cfeab047d699b06d3e5b1d0297",
      "bdce50f879004576ba513d038c8c9781",
      "132531a0050842159647a8ae3a438f91",
      "d1bd6e3451ba496eaf2a499254016a25",
      "e8738548cb3747228fe0d584b152f7f1",
      "04041a179950425ea47fa7d096457bc4",
      "905b113539824637950fc657b35f6a24",
      "4c89a506dcc248328f1cda35fc3da0c3",
      "747bc2a67f2b4a8e97dc4d82ea4301da",
      "b5a7fa5aacbd400e9b618a9057d85dd5",
      "23a04fc3854f4267b71b24ee40ab4725",
      "8d35c2aac0e54ee190fea63ac4446171",
      "60430d47922d47399deee027fb4df2f0",
      "137274e993ba47f588798391c508e8a2",
      "0d5cc41f31eb45e6ae258824d5f229cf",
      "38448f4d71c943a39069aea7bf916abc",
      "cf6a8a9abb9f46bd9951aaac140f190b",
      "2726dc6183bd42e291983516022ccfb0",
      "589786585eef4181a3814e004c78ea4d",
      "d1ee34a2f1e54d3aaf61a995a883a01a",
      "b52eac6224cb4e75adba0894c8941f3f",
      "df0d551956334db28518f6aedaf01898",
      "27e3be09e75c4964b383cb823a3276a9",
      "d1b92b04025e4097967aa3323d85bff1",
      "6feb4af1b224477c8273068cfe15a2aa",
      "02b87c1698234882a2eb652b93da5957",
      "9d5b9d68a45944a1b6e7f909d4cdec98",
      "f88867b8aeb1477fb9eb25d826e00405",
      "9ce1d283af824c3fab52e2fe04120882",
      "4b5bd14204984d40b0be75ef3b17a8a0",
      "af4ad8201af348908e861ece686c5aba",
      "192aa2e7b77b40d8bb26e8c8e08f8b63",
      "335d505596d6408885336a6b5f07ca23",
      "3a061a9f509a46c882c6ae918496d074",
      "d4e801d8a0b241bf9d9f201f1ea4d8f4",
      "6bfa1c7121354806bad6693ff60d6a18",
      "e173262406334569a6ba91663dbdc855",
      "bff5a095f36b4ed99746bfa184f7d65f",
      "8dc512f183534fe3b4f6c365da557b8b",
      "73427274745b4fc8b9e451afa915b864",
      "f702cafb1e4540bdb7ae0afb7a39ea23",
      "42743767256642549ef6b78be19daed6",
      "d0e79710ad094533bd782e29ff21b3de",
      "3fc4f5ffcaf245c4b39bd926ded8320c",
      "30a9d497f79741c9a9c89ee204642686",
      "b494336175e24e8e9b7655a299d0ff93",
      "9184deae97684b1898dba338d3ea8396",
      "d295a4d6e2a341dcafcf077756658efb",
      "c7b40f164d294d5cbbe7dee2ffe75aac",
      "1cd76e5983e34d878d0c392abf43d9f3",
      "21d356f052e8465aa9703f8d123724ef",
      "8d9efc79de3e49c28336cb9be4f618df",
      "9d99f4644c95402d95bfe1186a299ae1",
      "4074ffd435b14da39d84f93cc38d13b0",
      "7e704109deda499fa4e6ad2a0a771a69",
      "2635adaa7df84420b20c67854d326724",
      "6c86b97c956f4b99ad1c930229ad9875",
      "11f912834fef4fb4b5072dab937799ac",
      "5b8df6d6cf114e8db00342f2d04bbeb0",
      "5f7f49b6f4454f48bea2837ca6483cc0",
      "b26a08c6cac24dd59f2d127e0b0ba743",
      "51c778d90459497c99c6e094499e292c",
      "79709f3f29084dbf8bfaa60ce3167457",
      "5bdba709fde04b18ac06775d3077f729",
      "48052b1350b7450092689a9f24a1da95",
      "9ed40eb4c982432396ef25122283ebba",
      "a8b59c574bdf4d0d968627bf9a8326a1",
      "cb15bf4e88dd407c82b71c0e91d30b80",
      "99faf335b9bd4c02ba6c7b2bab8a833b",
      "c3ca21fb94ec4b5b965e17a14124b968",
      "a87ca1d038c84f0eb7c083841d6f631a",
      "54ccdbfc7c2442bb93146be4f890ebb0",
      "b9656528ac6342f08b169f217e600370",
      "4243edfb17b9480096d3301ea5d5276e",
      "c0035a84305c47c881846ea360cb29d0",
      "cae72466b6bd46d686400b86f8e35693",
      "072c935b976d4fa896697b1255b16c72",
      "2a65c16dc9634786b514885c31f9800d",
      "e3521c6521af429c89e7f92f028fbd0d",
      "dd0fbaaf44dd40fa97fb40ea91be4a79",
      "c502ed6d76494e8dbba54cd7c53f9ab8",
      "48952adae5964552a085fbdf579d5968",
      "97e6760d70ec4f6a9e66d73c45e4cc1c",
      "ab9821c26bbd4486a1132f9383e8778a",
      "c5331b2aa18349b2b22abd7f2bf82c1f"
     ]
    },
    "executionInfo": {
     "elapsed": 13045,
     "status": "ok",
     "timestamp": 1743050309493,
     "user": {
      "displayName": "김성호",
      "userId": "00973481409333192946"
     },
     "user_tz": -540
    },
    "id": "ehAGyCp6hBvR",
    "outputId": "5967e4f2-c975-4573-ce58-eed9052e9044"
   },
   "outputs": [],
   "source": [
    "sbert_model = SentenceTransformer('jhgan/ko-sbert-sts')"
   ]
  },
  {
   "cell_type": "markdown",
   "metadata": {
    "id": "KhlY18eYhB68"
   },
   "source": [
    "## 평가"
   ]
  },
  {
   "cell_type": "code",
   "execution_count": null,
   "metadata": {
    "id": "C6uf6adZhCU2"
   },
   "outputs": [],
   "source": [
    "def cosine_similarity(a, b):\n",
    "    \"\"\"코사인 유사도 계산\"\"\"\n",
    "    dot_product = np.dot(a, b)\n",
    "    norm_a = np.linalg.norm(a)\n",
    "    norm_b = np.linalg.norm(b)\n",
    "    return dot_product / (norm_a * norm_b) if norm_a != 0 and norm_b != 0 else 0\n",
    "\n",
    "def jaccard_similarity(text1, text2):\n",
    "    \"\"\"자카드 유사도 계산\"\"\"\n",
    "    set1, set2 = set(text1.split()), set(text2.split())  # 단어 집합 생성\n",
    "    intersection = len(set1.intersection(set2))  # 교집합 크기\n",
    "    union = len(set1.union(set2))  # 합집합 크기\n",
    "    return intersection / union if union != 0 else 0\n",
    "\n",
    "# 단일 평가\n",
    "def calculate_final_score(bs, gs):\n",
    "    \"\"\"두 문장 간 유사도 계산\"\"\"\n",
    "    # SBERT 임베딩 벡터 변환\n",
    "    bs_embedding = sbert_model.encode(bs)\n",
    "    gs_embedding = sbert_model.encode(gs)\n",
    "\n",
    "    # 유사도 계산\n",
    "    cosine_sim = cosine_similarity(bs_embedding, gs_embedding)\n",
    "    jaccard_sim = jaccard_similarity(bs, gs)\n",
    "\n",
    "    # 최종 점수 계산 (공식 적용)\n",
    "    final_score = 0.7 * max(cosine_sim, 0) + 0.3 * max(jaccard_sim, 0)\n",
    "\n",
    "    return {\n",
    "        \"bs\": bs,\n",
    "        \"gs\": gs,\n",
    "        \"cosine_similarity\": cosine_sim,\n",
    "        \"jaccard_similarity\": jaccard_sim,\n",
    "        \"final_score\": final_score\n",
    "    }\n",
    "\n",
    "# 다중 평가\n",
    "def calculate_final_scores(best_sentences, generated_sentences):\n",
    "    \"\"\"여러 문장 간 유사도 계산\"\"\"\n",
    "    # SBERT로 문장 임베딩을 한번에 생성\n",
    "    bs_embeddings = sbert_model.encode(best_sentences)  # 정답 문장들\n",
    "    gs_embeddings = sbert_model.encode(generated_sentences)  # 생성된 문장들\n",
    "\n",
    "    # 코사인 유사도 계산 (벡터화)\n",
    "    cosine_sims = cosine_similarity(bs_embeddings, gs_embeddings)\n",
    "\n",
    "    # 자카드 유사도 계산 (벡터화)\n",
    "    jaccard_sims = jaccard_similarity(best_sentences, generated_sentences)\n",
    "\n",
    "    # 최종 점수 계산\n",
    "    final_scores = 0.7 * np.maximum(cosine_sims, 0) + 0.3 * np.maximum(jaccard_sims, 0)\n",
    "\n",
    "    results = []\n",
    "    for bs, gs, cosine_sim, jaccard_sim, final_score in zip(best_sentences, generated_sentences, cosine_sims, jaccard_sims, final_scores):\n",
    "        results.append({\n",
    "            \"best_sentence\": bs,\n",
    "            \"generated_sentence\": gs,\n",
    "            \"cosine_similarity\": cosine_sim,\n",
    "            \"jaccard_similarity\": jaccard_sim,\n",
    "            \"final_score\": final_score\n",
    "        })\n",
    "\n",
    "    return pd.DataFrame(results)"
   ]
  },
  {
   "cell_type": "markdown",
   "metadata": {
    "id": "6kMG4ipUmO2L"
   },
   "source": [
    "### 랜덤 5가지"
   ]
  },
  {
   "cell_type": "code",
   "execution_count": null,
   "metadata": {
    "colab": {
     "base_uri": "https://localhost:8080/",
     "height": 583
    },
    "executionInfo": {
     "elapsed": 17647,
     "status": "ok",
     "timestamp": 1743049402024,
     "user": {
      "displayName": "김성호",
      "userId": "00973481409333192946"
     },
     "user_tz": -540
    },
    "id": "l19CjjVUljbd",
    "outputId": "a3495e42-dfae-4160-b552-b19df9ccddf8"
   },
   "outputs": [],
   "source": [
    "# val에서 랜덤하게 5개의 인덱스 추출\n",
    "random_indices = random.sample(range(len(val)), 5)\n",
    "\n",
    "for i in random_indices:\n",
    "    ex = val.iloc[i]\n",
    "    process = ex['process']\n",
    "    construct_type = ex['construct_type']\n",
    "    object_type = ex['object_type']\n",
    "    situation = ex['situation']\n",
    "    response = ex['response']\n",
    "    generated_text = generate_answer_val(val, model, tokenizer)\n",
    "    results = calculate_final_score(response, generated_text)\n",
    "    print(f\"정답: {response}\")\n",
    "    print(f\"생성된 문장: {generated_text}\")\n",
    "    print(f\"Cosine Similarity: {results['cosine_similarity']}\")\n",
    "    print(f\"Jaccard Similarity: {results['jaccard_similarity']}\")\n",
    "    print(f\"Final Score: {results['final_score']}\\n\")"
   ]
  },
  {
   "cell_type": "markdown",
   "metadata": {
    "id": "RS04WoNsljgM"
   },
   "source": [
    "### 전체"
   ]
  },
  {
   "cell_type": "code",
   "execution_count": null,
   "metadata": {
    "colab": {
     "base_uri": "https://localhost:8080/",
     "height": 388
    },
    "executionInfo": {
     "elapsed": 882430,
     "status": "error",
     "timestamp": 1743051261826,
     "user": {
      "displayName": "김성호",
      "userId": "00973481409333192946"
     },
     "user_tz": -540
    },
    "id": "XqBpneM_ljlA",
    "outputId": "7b63b4df-cb18-402e-c87d-add8f3690ff8"
   },
   "outputs": [],
   "source": [
    "# 결과 저장 리스트\n",
    "all_results = []\n",
    "\n",
    "# val에서 situation과 response 추출\n",
    "situations = val['situation'].tolist()\n",
    "responses = val['response'].tolist()\n",
    "\n",
    "# 생성된 문장들을 리스트에 담기\n",
    "generated_sentences = []\n",
    "for ex in tqdm(val.to_dict(orient='records'), desc=\"Generating sentences\", total=len(val)):\n",
    "    generated_sentence = generate_answer_val(ex, model, tokenizer)\n",
    "    generated_sentences.append(generated_sentence)\n",
    "\n",
    "# 최종 점수 계산\n",
    "df_scores_all = calculate_final_scores(responses, generated_sentences)\n",
    "\n",
    "# 결과를 all_results 리스트에 추가\n",
    "for text, best_sentence, generated_sentence, row in zip(situations, responses, generated_sentences, df_scores_all.to_dict(orient='records')):\n",
    "    all_results.append({\n",
    "        \"input_prompt\": text,\n",
    "        **row\n",
    "    })\n",
    "\n",
    "# 리스트를 DataFrame으로 변환\n",
    "df_scores_all = pd.DataFrame(all_results)\n",
    "# 결과 확인\n",
    "print(df_scores_all.head())"
   ]
  },
  {
   "cell_type": "markdown",
   "metadata": {
    "id": "tx8bFhsep-bo"
   },
   "source": [
    "## 테스트 결과 저장"
   ]
  },
  {
   "cell_type": "code",
   "execution_count": null,
   "metadata": {
    "colab": {
     "base_uri": "https://localhost:8080/"
    },
    "executionInfo": {
     "elapsed": 223,
     "status": "ok",
     "timestamp": 1743052002990,
     "user": {
      "displayName": "김성호",
      "userId": "00973481409333192946"
     },
     "user_tz": -540
    },
    "id": "0zirWQY-ljpS",
    "outputId": "ab24849c-8615-495f-9ea8-f34792428dcc"
   },
   "outputs": [],
   "source": [
    "# CSV 파일로 저장\n",
    "csv_name = f\"{model_name}_eval.csv\"\n",
    "output_path = score_path + csv_name\n",
    "\n",
    "df_scores_all.to_csv(output_path, index=False, encoding='utf-8-sig')\n",
    "print(f\"CSV 파일이 '{output_path}' 경로에 저장되었습니다.\")"
   ]
  },
  {
   "cell_type": "markdown",
   "metadata": {
    "id": "ZEiWKXZqljt2"
   },
   "source": [
    "### 테스트 결과 확인"
   ]
  },
  {
   "cell_type": "code",
   "execution_count": null,
   "metadata": {
    "colab": {
     "base_uri": "https://localhost:8080/",
     "height": 300
    },
    "executionInfo": {
     "elapsed": 100,
     "status": "ok",
     "timestamp": 1743052006933,
     "user": {
      "displayName": "김성호",
      "userId": "00973481409333192946"
     },
     "user_tz": -540
    },
    "id": "_bkRztaFhCsx",
    "outputId": "8cf293eb-faa2-4f29-d056-965de176920e"
   },
   "outputs": [],
   "source": [
    "df = pd.read_csv(output_path)\n",
    "df.describe()"
   ]
  }
 ],
 "metadata": {
  "accelerator": "GPU",
  "colab": {
   "gpuType": "T4",
   "provenance": [],
   "toc_visible": true
  },
  "kernelspec": {
   "display_name": "Python 3",
   "name": "python3"
  },
  "language_info": {
   "name": "python"
  }
 },
 "nbformat": 4,
 "nbformat_minor": 0
}
